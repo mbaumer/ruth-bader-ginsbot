{
 "cells": [
  {
   "cell_type": "code",
   "execution_count": 48,
   "metadata": {},
   "outputs": [],
   "source": [
    "%matplotlib inline\n",
    "from __future__ import division\n",
    "import pandas as pd\n",
    "import matplotlib.pyplot as plt\n",
    "import numpy as np\n",
    "import nltk\n",
    "try: \n",
    "    import vocab\n",
    "except ImportError:\n",
    "    import sys\n",
    "    sys.path.insert(0, '/Users/mbaumer/side_projects/ruth-bader-ginsbot/python/')\n",
    "    import vocab\n",
    "import keras"
   ]
  },
  {
   "cell_type": "code",
   "execution_count": 21,
   "metadata": {},
   "outputs": [
    {
     "name": "stderr",
     "output_type": "stream",
     "text": [
      "/Users/mbaumer/anaconda2/lib/python2.7/site-packages/ipykernel_launcher.py:2: ParserWarning: Falling back to the 'python' engine because the 'c' engine does not support regex separators (separators > 1 char and different from '\\s+' are interpreted as regex); you can avoid this warning by specifying engine='python'.\n",
      "  \n"
     ]
    }
   ],
   "source": [
    "data = pd.read_csv('../data/supreme_court_dialogs_corpus_v1.01/supreme.conversations.txt',sep='\\ \\+\\+\\+\\$\\+\\+\\+\\ ',\n",
    "            names=['case_id','utterance_id','after_previous','speaker','isJustice','justice_vote','presenting_side','utterance'])"
   ]
  },
  {
   "cell_type": "code",
   "execution_count": 22,
   "metadata": {},
   "outputs": [
    {
     "data": {
      "text/plain": [
       "'PETITIONER'"
      ]
     },
     "execution_count": 22,
     "metadata": {},
     "output_type": "execute_result"
    }
   ],
   "source": [
    "data['justice_vote'][0]"
   ]
  },
  {
   "cell_type": "code",
   "execution_count": 23,
   "metadata": {},
   "outputs": [
    {
     "data": {
      "text/plain": [
       "<matplotlib.axes._subplots.AxesSubplot at 0x1a1d760c90>"
      ]
     },
     "execution_count": 23,
     "metadata": {},
     "output_type": "execute_result"
    },
    {
     "data": {
      "image/png": "[encoded data removed]",
      "text/plain": [
       "<matplotlib.figure.Figure at 0x11489b290>"
      ]
     },
     "metadata": {},
     "output_type": "display_data"
    }
   ],
   "source": [
    "justice_lines = data[(data['isJustice'] == 'JUSTICE') & ((data['justice_vote'] == 'PETITIONER') | (data['justice_vote'] == 'RESPONDENT'))]\n",
    "justice_lines['justice_vote'].hist()"
   ]
  },
  {
   "cell_type": "code",
   "execution_count": 33,
   "metadata": {},
   "outputs": [
    {
     "data": {
      "text/plain": [
       "(array([1.9791e+04, 3.9040e+03, 1.1020e+03, 2.9100e+02, 1.1600e+02,\n",
       "        3.9000e+01, 1.5000e+01, 8.0000e+00, 4.0000e+00, 3.0000e+00]),\n",
       " array([  2. ,  53.9, 105.8, 157.7, 209.6, 261.5, 313.4, 365.3, 417.2,\n",
       "        469.1, 521. ]),\n",
       " <a list of 10 Patch objects>)"
      ]
     },
     "execution_count": 33,
     "metadata": {},
     "output_type": "execute_result"
    },
    {
     "data": {
      "image/png": "[encoded data removed]",
      "text/plain": [
       "<matplotlib.figure.Figure at 0x1a1da17cd0>"
      ]
     },
     "metadata": {},
     "output_type": "display_data"
    }
   ],
   "source": [
    "tokens = map(nltk.word_tokenize,justice_lines['utterance'])\n",
    "plt.hist(map(len,tokens))"
   ]
  },
  {
   "cell_type": "code",
   "execution_count": 18,
   "metadata": {},
   "outputs": [],
   "source": [
    "max_utterance_length = 200"
   ]
  },
  {
   "cell_type": "code",
   "execution_count": 34,
   "metadata": {},
   "outputs": [
    {
     "data": {
      "text/plain": [
       "25273"
      ]
     },
     "execution_count": 34,
     "metadata": {},
     "output_type": "execute_result"
    }
   ],
   "source": [
    "len(tokens)"
   ]
  },
  {
   "cell_type": "code",
   "execution_count": 32,
   "metadata": {},
   "outputs": [
    {
     "data": {
      "text/plain": [
       "25273"
      ]
     },
     "execution_count": 32,
     "metadata": {},
     "output_type": "execute_result"
    }
   ],
   "source": [
    "len(justice_lines['justice_vote'])"
   ]
  },
  {
   "cell_type": "code",
   "execution_count": 35,
   "metadata": {},
   "outputs": [
    {
     "name": "stderr",
     "output_type": "stream",
     "text": [
      "  2%|▏         | 8058/400000 [00:00<00:09, 40282.16it/s]"
     ]
    },
    {
     "name": "stdout",
     "output_type": "stream",
     "text": [
      "Loading GLoVE vectors from file: /Users/mbaumer/side_projects/ruth-bader-ginsbot/data/glove/glove.6B.50d.txt\n"
     ]
    },
    {
     "name": "stderr",
     "output_type": "stream",
     "text": [
      "100%|██████████| 400000/400000 [00:09<00:00, 43754.82it/s]\n"
     ]
    }
   ],
   "source": [
    "emb_matrix, word2id, id2word = vocab.get_glove('/Users/mbaumer/side_projects/ruth-bader-ginsbot/data/glove/glove.6B.50d.txt',50)"
   ]
  },
  {
   "cell_type": "code",
   "execution_count": 42,
   "metadata": {},
   "outputs": [
    {
     "name": "stdout",
     "output_type": "stream",
     "text": [
      "Nwords: 904359\n",
      "Nunk: 85233\n",
      "%unk: 9.42468643536\n"
     ]
    }
   ],
   "source": [
    "N_words = 0\n",
    "N_unk = 0\n",
    "list_list_tokens = []\n",
    "for sentence in tokens:\n",
    "    list_tokens = []\n",
    "    for word in sentence:\n",
    "        N_words += 1\n",
    "        token_id = word2id.get(word,1)\n",
    "        list_tokens.append(token_id)\n",
    "        if token_id == 1:\n",
    "            N_unk += 1\n",
    "    list_list_tokens.append(list_tokens)\n",
    "print 'Nwords:', N_words\n",
    "print 'Nunk:', N_unk\n",
    "print '%unk:', N_unk/N_words*100"
   ]
  },
  {
   "cell_type": "code",
   "execution_count": 43,
   "metadata": {},
   "outputs": [
    {
     "data": {
      "text/plain": [
       "[1, 45, 116, 2273, 4021, 8, 2, 1, 1, 100, 1, 7, 1, 100, 2, 1, 1, 4, 1, 1, 4]"
      ]
     },
     "execution_count": 43,
     "metadata": {},
     "output_type": "execute_result"
    }
   ],
   "source": [
    "list_list_tokens[0]"
   ]
  },
  {
   "cell_type": "code",
   "execution_count": 47,
   "metadata": {},
   "outputs": [
    {
     "data": {
      "text/plain": [
       "['We',\n",
       " 'will',\n",
       " 'now',\n",
       " 'hear',\n",
       " 'argument',\n",
       " 'in',\n",
       " 'the',\n",
       " 'Cherokee',\n",
       " 'Nation',\n",
       " 'against',\n",
       " 'Thompson',\n",
       " 'and',\n",
       " 'Thompson',\n",
       " 'against',\n",
       " 'the',\n",
       " 'Cherokee',\n",
       " 'Nation',\n",
       " '.',\n",
       " 'Mr.',\n",
       " 'Miller',\n",
       " '.']"
      ]
     },
     "execution_count": 47,
     "metadata": {},
     "output_type": "execute_result"
    }
   ],
   "source": [
    "tokens[0]"
   ]
  },
  {
   "cell_type": "code",
   "execution_count": 51,
   "metadata": {},
   "outputs": [],
   "source": [
    "y = np.zeros(len(justice_lines))\n",
    "y[np.where(justice_lines['justice_vote'] == 'PETITIONER')] = 1"
   ]
  },
  {
   "cell_type": "code",
   "execution_count": 66,
   "metadata": {},
   "outputs": [],
   "source": [
    "train_inds = np.random.permutation(np.arange(len(justice_lines),dtype=int))[:int(len(justice_lines)*.7)]\n",
    "test_inds = np.random.permutation(np.arange(len(justice_lines),dtype=int))[int(len(justice_lines)*.7):]"
   ]
  },
  {
   "cell_type": "code",
   "execution_count": 74,
   "metadata": {},
   "outputs": [
    {
     "data": {
      "text/plain": [
       "[105528, 4]"
      ]
     },
     "execution_count": 74,
     "metadata": {},
     "output_type": "execute_result"
    }
   ],
   "source": [
    "max(list_list_tokens)"
   ]
  },
  {
   "cell_type": "code",
   "execution_count": 77,
   "metadata": {},
   "outputs": [
    {
     "name": "stdout",
     "output_type": "stream",
     "text": [
      "Loading data...\n",
      "17691 train sequences\n",
      "7582 test sequences\n",
      "Pad sequences (samples x time)\n",
      "x_train shape: (17691, 200)\n",
      "x_test shape: (7582, 200)\n",
      "Build model...\n",
      "Train...\n",
      "Train on 17691 samples, validate on 7582 samples\n",
      "Epoch 1/2\n",
      "17691/17691 [==============================] - 386s 22ms/step - loss: 0.6381 - acc: 0.6650 - val_loss: 0.6201 - val_acc: 0.6717\n",
      "Epoch 2/2\n",
      "17691/17691 [==============================] - 357s 20ms/step - loss: 0.5996 - acc: 0.6805 - val_loss: 0.5452 - val_acc: 0.7309\n",
      "7582/7582 [==============================] - 21s 3ms/step\n",
      "Test score: 0.5451745515572808\n",
      "Test accuracy: 0.7309417041144878\n"
     ]
    }
   ],
   "source": [
    "from __future__ import print_function\n",
    "\n",
    "from keras.preprocessing import sequence\n",
    "from keras.models import Sequential\n",
    "from keras.layers import Dense, Embedding\n",
    "from keras.layers import LSTM\n",
    "from keras.datasets import imdb\n",
    "\n",
    "max_features = len(word2id)\n",
    "maxlen = 200\n",
    "batch_size = 128\n",
    "\n",
    "print('Loading data...')\n",
    "x_train = [list_list_tokens[train_ind] for train_ind in train_inds]\n",
    "y_train = y[train_inds]\n",
    "x_test = [list_list_tokens[test_ind] for test_ind in test_inds]\n",
    "y_test = y[test_inds]\n",
    "print(len(x_train), 'train sequences')\n",
    "print(len(x_test), 'test sequences')\n",
    "\n",
    "print('Pad sequences (samples x time)')\n",
    "x_train = sequence.pad_sequences(x_train, maxlen=maxlen)\n",
    "x_test = sequence.pad_sequences(x_test, maxlen=maxlen)\n",
    "print('x_train shape:', x_train.shape)\n",
    "print('x_test shape:', x_test.shape)\n",
    "\n",
    "print('Build model...')\n",
    "model = Sequential()\n",
    "model.add(Embedding(max_features, 128))\n",
    "model.add(LSTM(128, dropout=0.2, recurrent_dropout=0.2))\n",
    "model.add(Dense(1, activation='sigmoid'))\n",
    "\n",
    "# try using different optimizers and different optimizer configs\n",
    "model.compile(loss='binary_crossentropy',\n",
    "              optimizer='adam',\n",
    "              metrics=['accuracy'])\n",
    "\n",
    "print('Train...')\n",
    "model.fit(x_train, y_train,\n",
    "          batch_size=batch_size,\n",
    "          epochs=2,\n",
    "          validation_data=(x_test, y_test))\n",
    "score, acc = model.evaluate(x_test, y_test,\n",
    "                            batch_size=batch_size)\n",
    "print('Test score:', score)\n",
    "print('Test accuracy:', acc)"
   ]
  },
  {
   "cell_type": "code",
   "execution_count": 80,
   "metadata": {},
   "outputs": [],
   "source": [
    "from sklearn.metrics import roc_curve"
   ]
  },
  {
   "cell_type": "code",
   "execution_count": 79,
   "metadata": {},
   "outputs": [],
   "source": [
    "y_pred = model.predict(x_train)"
   ]
  },
  {
   "cell_type": "code",
   "execution_count": 87,
   "metadata": {},
   "outputs": [],
   "source": [
    "fpr,tpr, _ = roc_curve(y_train,y_pred)\n",
    "fpr1,tpr1, _ = roc_curve(y_train,np.ones_like(y_train))"
   ]
  },
  {
   "cell_type": "code",
   "execution_count": 89,
   "metadata": {},
   "outputs": [
    {
     "data": {
      "text/plain": [
       "<matplotlib.legend.Legend at 0x1073a1810>"
      ]
     },
     "execution_count": 89,
     "metadata": {},
     "output_type": "execute_result"
    },
    {
     "data": {
      "image/png": "[encoded data removed]",
      "text/plain": [
       "<matplotlib.figure.Figure at 0x1a51a62c50>"
      ]
     },
     "metadata": {},
     "output_type": "display_data"
    }
   ],
   "source": [
    "plt.plot(fpr,tpr,label='LSTM')\n",
    "plt.plot(fpr1,tpr1,label='Always say petitioner')\n",
    "plt.xlabel('FPR')\n",
    "plt.ylabel('TPR')\n",
    "plt.title('ROC Curve')\n",
    "plt.legend()"
   ]
  },
  {
   "cell_type": "code",
   "execution_count": 86,
   "metadata": {},
   "outputs": [
    {
     "name": "stdout",
     "output_type": "stream",
     "text": [
      "Results from always saying Petitioner: 0.6650575713211728\n"
     ]
    }
   ],
   "source": [
    "print ('Results from always saying Petitioner:',np.sum(y)/len(y))"
   ]
  },
  {
   "cell_type": "code",
   "execution_count": 101,
   "metadata": {},
   "outputs": [
    {
     "data": {
      "text/plain": [
       "<matplotlib.legend.Legend at 0x1a3dd62090>"
      ]
     },
     "execution_count": 101,
     "metadata": {},
     "output_type": "execute_result"
    },
    {
     "data": {
      "image/png": "[encoded data removed]",
      "text/plain": [
       "<matplotlib.figure.Figure at 0x1a3dcc0950>"
      ]
     },
     "metadata": {},
     "output_type": "display_data"
    }
   ],
   "source": [
    "plt.hist(y_pred,normed=True,bins=50)\n",
    "plt.xlabel('y_pred');\n",
    "plt.vlines(np.sum(y)/len(y),0,5,label='Prob. petitioner wins')\n",
    "plt.legend()"
   ]
  },
  {
   "cell_type": "code",
   "execution_count": null,
   "metadata": {},
   "outputs": [],
   "source": []
  }
 ],
 "metadata": {
  "kernelspec": {
   "display_name": "Python 2",
   "language": "python",
   "name": "python2"
  },
  "language_info": {
   "codemirror_mode": {
    "name": "ipython",
    "version": 2
   },
   "file_extension": ".py",
   "mimetype": "text/x-python",
   "name": "python",
   "nbconvert_exporter": "python",
   "pygments_lexer": "ipython2",
   "version": "2.7.14"
  }
 },
 "nbformat": 4,
 "nbformat_minor": 2
}
