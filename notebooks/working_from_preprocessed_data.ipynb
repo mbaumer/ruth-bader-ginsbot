{
 "cells": [
  {
   "cell_type": "code",
   "execution_count": 1,
   "metadata": {},
   "outputs": [
    {
     "name": "stderr",
     "output_type": "stream",
     "text": [
      "/Users/mbaumer/anaconda2/lib/python2.7/site-packages/h5py/__init__.py:36: FutureWarning: Conversion of the second argument of issubdtype from `float` to `np.floating` is deprecated. In future, it will be treated as `np.float64 == np.dtype(float).type`.\n",
      "  from ._conv import register_converters as _register_converters\n",
      "Using TensorFlow backend.\n"
     ]
    }
   ],
   "source": [
    "%matplotlib inline\n",
    "from __future__ import division\n",
    "import pandas as pd\n",
    "import matplotlib.pyplot as plt\n",
    "import numpy as np\n",
    "import nltk\n",
    "try: \n",
    "    import vocab\n",
    "except ImportError:\n",
    "    import sys\n",
    "    sys.path.insert(0, '/Users/mbaumer/side_projects/ruth-bader-ginsbot/python/')\n",
    "    import vocab\n",
    "import keras"
   ]
  },
  {
   "cell_type": "code",
   "execution_count": 2,
   "metadata": {},
   "outputs": [
    {
     "name": "stderr",
     "output_type": "stream",
     "text": [
      "/Users/mbaumer/anaconda2/lib/python2.7/site-packages/ipykernel_launcher.py:2: ParserWarning: Falling back to the 'python' engine because the 'c' engine does not support regex separators (separators > 1 char and different from '\\s+' are interpreted as regex); you can avoid this warning by specifying engine='python'.\n",
      "  \n"
     ]
    }
   ],
   "source": [
    "data = pd.read_csv('../data/supreme_court_dialogs_corpus_v1.01/supreme.conversations.txt',sep='\\ \\+\\+\\+\\$\\+\\+\\+\\ ',\n",
    "            names=['case_id','utterance_id','after_previous','speaker','isJustice','justice_vote','presenting_side','utterance'])"
   ]
  },
  {
   "cell_type": "code",
   "execution_count": 3,
   "metadata": {},
   "outputs": [
    {
     "data": {
      "text/plain": [
       "'PETITIONER'"
      ]
     },
     "execution_count": 3,
     "metadata": {},
     "output_type": "execute_result"
    }
   ],
   "source": [
    "data['justice_vote'][0]"
   ]
  },
  {
   "cell_type": "code",
   "execution_count": 4,
   "metadata": {},
   "outputs": [
    {
     "data": {
      "text/plain": [
       "<matplotlib.axes._subplots.AxesSubplot at 0x11acf9850>"
      ]
     },
     "execution_count": 4,
     "metadata": {},
     "output_type": "execute_result"
    },
    {
     "data": {
      "image/png": "[encoded data removed]",
      "text/plain": [
       "<matplotlib.figure.Figure at 0x1105a00d0>"
      ]
     },
     "metadata": {},
     "output_type": "display_data"
    }
   ],
   "source": [
    "justice_lines = data[(data['isJustice'] == 'JUSTICE') & ((data['justice_vote'] == 'PETITIONER') | (data['justice_vote'] == 'RESPONDENT'))]\n",
    "justice_lines['justice_vote'].hist()"
   ]
  },
  {
   "cell_type": "code",
   "execution_count": 5,
   "metadata": {},
   "outputs": [
    {
     "data": {
      "text/plain": [
       "(array([1.9791e+04, 3.9040e+03, 1.1020e+03, 2.9100e+02, 1.1600e+02,\n",
       "        3.9000e+01, 1.5000e+01, 8.0000e+00, 4.0000e+00, 3.0000e+00]),\n",
       " array([  2. ,  53.9, 105.8, 157.7, 209.6, 261.5, 313.4, 365.3, 417.2,\n",
       "        469.1, 521. ]),\n",
       " <a list of 10 Patch objects>)"
      ]
     },
     "execution_count": 5,
     "metadata": {},
     "output_type": "execute_result"
    },
    {
     "data": {
      "image/png": "[encoded data removed]",
      "text/plain": [
       "<matplotlib.figure.Figure at 0x11af25610>"
      ]
     },
     "metadata": {},
     "output_type": "display_data"
    }
   ],
   "source": [
    "tokens = map(nltk.word_tokenize,justice_lines['utterance'])\n",
    "plt.hist(map(len,tokens))"
   ]
  },
  {
   "cell_type": "code",
   "execution_count": 6,
   "metadata": {},
   "outputs": [],
   "source": [
    "max_utterance_length = 200"
   ]
  },
  {
   "cell_type": "code",
   "execution_count": 7,
   "metadata": {},
   "outputs": [
    {
     "data": {
      "text/plain": [
       "case_id   speaker                \n",
       "02-1472   JUSTICE BREYER             PETITIONER\n",
       "          JUSTICE GINSBURG           PETITIONER\n",
       "          JUSTICE KENNEDY            PETITIONER\n",
       "          JUSTICE O'CONNOR           PETITIONER\n",
       "          JUSTICE SCALIA             PETITIONER\n",
       "          JUSTICE SOUTER             PETITIONER\n",
       "          JUSTICE STEVENS            PETITIONER\n",
       "02-1672   JUSTICE BREYER             PETITIONER\n",
       "          JUSTICE GINSBURG           PETITIONER\n",
       "          JUSTICE KENNEDY            RESPONDENT\n",
       "          JUSTICE O'CONNOR           PETITIONER\n",
       "          JUSTICE SCALIA             RESPONDENT\n",
       "          JUSTICE SOUTER             PETITIONER\n",
       "          JUSTICE STEVENS            PETITIONER\n",
       "03-10198  CHIEF JUSTICE REHNQUIST    PETITIONER\n",
       "          JUSTICE BREYER             PETITIONER\n",
       "          JUSTICE GINSBURG           PETITIONER\n",
       "          JUSTICE KENNEDY            PETITIONER\n",
       "          JUSTICE O'CONNOR           PETITIONER\n",
       "          JUSTICE SCALIA             RESPONDENT\n",
       "          JUSTICE SOUTER             PETITIONER\n",
       "          JUSTICE STEVENS            PETITIONER\n",
       "03-1039   JUSTICE BREYER             PETITIONER\n",
       "          JUSTICE GINSBURG           RESPONDENT\n",
       "          JUSTICE KENNEDY            PETITIONER\n",
       "          JUSTICE O'CONNOR           PETITIONER\n",
       "          JUSTICE SOUTER             RESPONDENT\n",
       "          JUSTICE STEVENS            RESPONDENT\n",
       "03-1116   JUSTICE BREYER             RESPONDENT\n",
       "          JUSTICE GINSBURG           RESPONDENT\n",
       "                                        ...    \n",
       "06-5618   JUSTICE BREYER             RESPONDENT\n",
       "          JUSTICE GINSBURG           RESPONDENT\n",
       "          JUSTICE KENNEDY            RESPONDENT\n",
       "          JUSTICE SCALIA             RESPONDENT\n",
       "          JUSTICE SOUTER             RESPONDENT\n",
       "          JUSTICE STEVENS            RESPONDENT\n",
       "06-5754   CHIEF JUSTICE ROBERTS      RESPONDENT\n",
       "          JUSTICE ALITO              RESPONDENT\n",
       "          JUSTICE BREYER             RESPONDENT\n",
       "          JUSTICE GINSBURG           RESPONDENT\n",
       "          JUSTICE KENNEDY            RESPONDENT\n",
       "          JUSTICE SCALIA             RESPONDENT\n",
       "          JUSTICE SOUTER             PETITIONER\n",
       "          JUSTICE STEVENS            RESPONDENT\n",
       "06-593    CHIEF JUSTICE ROBERTS      PETITIONER\n",
       "          JUSTICE ALITO              PETITIONER\n",
       "          JUSTICE BREYER             PETITIONER\n",
       "          JUSTICE GINSBURG           PETITIONER\n",
       "          JUSTICE KENNEDY            PETITIONER\n",
       "          JUSTICE SCALIA             PETITIONER\n",
       "          JUSTICE SOUTER             PETITIONER\n",
       "          JUSTICE STEVENS            PETITIONER\n",
       "06-84     CHIEF JUSTICE ROBERTS      PETITIONER\n",
       "          JUSTICE ALITO              PETITIONER\n",
       "          JUSTICE BREYER             PETITIONER\n",
       "          JUSTICE GINSBURG           PETITIONER\n",
       "          JUSTICE KENNEDY            PETITIONER\n",
       "          JUSTICE SCALIA             PETITIONER\n",
       "          JUSTICE SOUTER             PETITIONER\n",
       "          JUSTICE STEVENS            PETITIONER\n",
       "Name: justice_vote, Length: 1469, dtype: object"
      ]
     },
     "execution_count": 7,
     "metadata": {},
     "output_type": "execute_result"
    }
   ],
   "source": [
    "justice_lines.groupby(['case_id','speaker']).first()['justice_vote']"
   ]
  },
  {
   "cell_type": "code",
   "execution_count": 8,
   "metadata": {},
   "outputs": [
    {
     "data": {
      "text/plain": [
       "25273"
      ]
     },
     "execution_count": 8,
     "metadata": {},
     "output_type": "execute_result"
    }
   ],
   "source": [
    "len(justice_lines['justice_vote'])"
   ]
  },
  {
   "cell_type": "code",
   "execution_count": 9,
   "metadata": {},
   "outputs": [
    {
     "name": "stderr",
     "output_type": "stream",
     "text": [
      "  1%|          | 4290/400000 [00:00<00:09, 42885.42it/s]"
     ]
    },
    {
     "name": "stdout",
     "output_type": "stream",
     "text": [
      "Loading GLoVE vectors from file: /Users/mbaumer/side_projects/ruth-bader-ginsbot/data/glove/glove.6B.50d.txt\n"
     ]
    },
    {
     "name": "stderr",
     "output_type": "stream",
     "text": [
      "100%|██████████| 400000/400000 [00:08<00:00, 46286.48it/s]\n"
     ]
    }
   ],
   "source": [
    "emb_matrix, word2id, id2word = vocab.get_glove('/Users/mbaumer/side_projects/ruth-bader-ginsbot/data/glove/glove.6B.50d.txt',50)"
   ]
  },
  {
   "cell_type": "code",
   "execution_count": 10,
   "metadata": {},
   "outputs": [
    {
     "name": "stdout",
     "output_type": "stream",
     "text": [
      "Nwords: 904359\n",
      "Nunk: 85233\n",
      "%unk: 9.42468643536\n"
     ]
    }
   ],
   "source": [
    "N_words = 0\n",
    "N_unk = 0\n",
    "list_list_tokens = []\n",
    "for sentence in tokens:\n",
    "    list_tokens = []\n",
    "    for word in sentence:\n",
    "        N_words += 1\n",
    "        token_id = word2id.get(word,1)\n",
    "        list_tokens.append(token_id)\n",
    "        if token_id == 1:\n",
    "            N_unk += 1\n",
    "    list_list_tokens.append(list_tokens)\n",
    "print 'Nwords:', N_words\n",
    "print 'Nunk:', N_unk\n",
    "print '%unk:', N_unk/N_words*100"
   ]
  },
  {
   "cell_type": "code",
   "execution_count": 11,
   "metadata": {},
   "outputs": [
    {
     "data": {
      "text/plain": [
       "25273"
      ]
     },
     "execution_count": 11,
     "metadata": {},
     "output_type": "execute_result"
    }
   ],
   "source": [
    "len(list_list_tokens)"
   ]
  },
  {
   "cell_type": "code",
   "execution_count": 12,
   "metadata": {},
   "outputs": [],
   "source": [
    "y = np.zeros(len(justice_lines))\n",
    "y[np.where(justice_lines['justice_vote'] == 'PETITIONER')] = 1"
   ]
  },
  {
   "cell_type": "code",
   "execution_count": 13,
   "metadata": {},
   "outputs": [],
   "source": [
    "shuffled = np.random.permutation(np.arange(len(justice_lines),dtype=int))\n",
    "train_inds = shuffled[:int(len(justice_lines)*.7)]\n",
    "test_inds = shuffled[int(len(justice_lines)*.7):]"
   ]
  },
  {
   "cell_type": "code",
   "execution_count": 14,
   "metadata": {},
   "outputs": [
    {
     "data": {
      "text/plain": [
       "True"
      ]
     },
     "execution_count": 14,
     "metadata": {},
     "output_type": "execute_result"
    }
   ],
   "source": [
    "len(train_inds)+len(test_inds) == len(justice_lines)"
   ]
  },
  {
   "cell_type": "code",
   "execution_count": 15,
   "metadata": {},
   "outputs": [
    {
     "name": "stdout",
     "output_type": "stream",
     "text": [
      "Loading data...\n",
      "17691 train sequences\n",
      "7582 test sequences\n",
      "Pad sequences (samples x time)\n",
      "x_train shape: (17691, 200)\n",
      "x_test shape: (7582, 200)\n",
      "Build model...\n",
      "Train...\n",
      "Train on 17691 samples, validate on 7582 samples\n",
      "Epoch 1/2\n",
      "17691/17691 [==============================] - 544s 31ms/step - loss: 0.6399 - acc: 0.6630 - val_loss: 0.6349 - val_acc: 0.6668\n",
      "Epoch 2/2\n",
      "17691/17691 [==============================] - 523s 30ms/step - loss: 0.6194 - acc: 0.6667 - val_loss: 0.6245 - val_acc: 0.6708\n",
      "7582/7582 [==============================] - 36s 5ms/step\n",
      "Test score: 0.6244640010574882\n",
      "Test accuracy: 0.6707992615029353\n"
     ]
    }
   ],
   "source": [
    "from __future__ import print_function\n",
    "\n",
    "from keras.preprocessing import sequence\n",
    "from keras.models import Sequential\n",
    "from keras.layers import Dense, Embedding\n",
    "from keras.layers import LSTM, Bidirectional\n",
    "from keras.datasets import imdb\n",
    "\n",
    "max_features = len(word2id)\n",
    "maxlen = 200\n",
    "batch_size = 128\n",
    "\n",
    "print('Loading data...')\n",
    "x_train = [list_list_tokens[train_ind] for train_ind in train_inds]\n",
    "y_train = y[train_inds]\n",
    "x_test = [list_list_tokens[test_ind] for test_ind in test_inds]\n",
    "y_test = y[test_inds]\n",
    "print(len(x_train), 'train sequences')\n",
    "print(len(x_test), 'test sequences')\n",
    "\n",
    "print('Pad sequences (samples x time)')\n",
    "x_train = sequence.pad_sequences(x_train, maxlen=maxlen)\n",
    "x_test = sequence.pad_sequences(x_test, maxlen=maxlen)\n",
    "print('x_train shape:', x_train.shape)\n",
    "print('x_test shape:', x_test.shape)\n",
    "\n",
    "print('Build model...')\n",
    "model = Sequential()\n",
    "model.add(Embedding(max_features, 128))\n",
    "model.add(Bidirectional(LSTM(128, dropout=0.5, recurrent_dropout=0.2)))\n",
    "model.add(Dense(1, activation='sigmoid'))\n",
    "\n",
    "# try using different optimizers and different optimizer configs\n",
    "model.compile(loss='binary_crossentropy',\n",
    "              optimizer='adam',\n",
    "              metrics=['accuracy'])\n",
    "\n",
    "print('Train...')\n",
    "model.fit(x_train, y_train,\n",
    "          batch_size=batch_size,\n",
    "          epochs=2,\n",
    "          validation_data=(x_test, y_test))\n",
    "score, acc = model.evaluate(x_test, y_test,\n",
    "                            batch_size=batch_size)\n",
    "print('Test score:', score)\n",
    "print('Test accuracy:', acc)"
   ]
  },
  {
   "cell_type": "code",
   "execution_count": 16,
   "metadata": {},
   "outputs": [],
   "source": [
    "from sklearn.metrics import roc_curve"
   ]
  },
  {
   "cell_type": "code",
   "execution_count": 17,
   "metadata": {},
   "outputs": [],
   "source": [
    "y_pred = model.predict(x_train)"
   ]
  },
  {
   "cell_type": "code",
   "execution_count": 18,
   "metadata": {},
   "outputs": [],
   "source": [
    "y_pred_test = model.predict(x_test)"
   ]
  },
  {
   "cell_type": "code",
   "execution_count": 19,
   "metadata": {},
   "outputs": [],
   "source": [
    "fpr,tpr, _ = roc_curve(y_train,y_pred)\n",
    "fpr1,tpr1, _ = roc_curve(y_train,np.ones_like(y_train))\n",
    "fpr2,tpr2, _ = roc_curve(y_test,y_pred_test)"
   ]
  },
  {
   "cell_type": "code",
   "execution_count": 20,
   "metadata": {},
   "outputs": [
    {
     "data": {
      "text/plain": [
       "<matplotlib.legend.Legend at 0x1a498c3fd0>"
      ]
     },
     "execution_count": 20,
     "metadata": {},
     "output_type": "execute_result"
    },
    {
     "data": {
      "image/png": "[encoded data removed]",
      "text/plain": [
       "<matplotlib.figure.Figure at 0x11c179150>"
      ]
     },
     "metadata": {},
     "output_type": "display_data"
    }
   ],
   "source": [
    "plt.plot(fpr,tpr,label='LSTM Train')\n",
    "plt.plot(fpr1,tpr1,label='Always say petitioner')\n",
    "plt.plot(fpr2,tpr2,label='LSTM Test')\n",
    "plt.xlabel('FPR')\n",
    "plt.ylabel('TPR')\n",
    "plt.title('ROC Curve')\n",
    "plt.legend()"
   ]
  },
  {
   "cell_type": "code",
   "execution_count": 21,
   "metadata": {},
   "outputs": [
    {
     "name": "stdout",
     "output_type": "stream",
     "text": [
      "Results from always saying Petitioner: 0.6650575713211728\n"
     ]
    }
   ],
   "source": [
    "print ('Results from always saying Petitioner:',np.sum(y)/len(y))"
   ]
  },
  {
   "cell_type": "code",
   "execution_count": 22,
   "metadata": {},
   "outputs": [
    {
     "data": {
      "text/plain": [
       "<matplotlib.legend.Legend at 0x1a48158590>"
      ]
     },
     "execution_count": 22,
     "metadata": {},
     "output_type": "execute_result"
    },
    {
     "data": {
      "image/png": "[encoded data removed]",
      "text/plain": [
       "<matplotlib.figure.Figure at 0x11c141a10>"
      ]
     },
     "metadata": {},
     "output_type": "display_data"
    }
   ],
   "source": [
    "plt.hist(y_pred,normed=True,bins=50)\n",
    "plt.xlabel('y_pred');\n",
    "plt.vlines(np.sum(y)/len(y),0,5,label='Prob. petitioner wins')\n",
    "plt.legend()"
   ]
  },
  {
   "cell_type": "code",
   "execution_count": 23,
   "metadata": {},
   "outputs": [],
   "source": [
    "out = justice_lines.iloc[train_inds]"
   ]
  },
  {
   "cell_type": "code",
   "execution_count": 24,
   "metadata": {},
   "outputs": [
    {
     "name": "stderr",
     "output_type": "stream",
     "text": [
      "/Users/mbaumer/anaconda2/lib/python2.7/site-packages/ipykernel_launcher.py:1: SettingWithCopyWarning: \n",
      "A value is trying to be set on a copy of a slice from a DataFrame.\n",
      "Try using .loc[row_indexer,col_indexer] = value instead\n",
      "\n",
      "See the caveats in the documentation: http://pandas.pydata.org/pandas-docs/stable/indexing.html#indexing-view-versus-copy\n",
      "  \"\"\"Entry point for launching an IPython kernel.\n"
     ]
    }
   ],
   "source": [
    "out['pred'] = pd.Series(y_pred.flatten(),index=out.index)"
   ]
  },
  {
   "cell_type": "code",
   "execution_count": 25,
   "metadata": {},
   "outputs": [],
   "source": [
    "stats = out[['case_id','speaker','justice_vote','pred']].groupby(['case_id','speaker'])"
   ]
  },
  {
   "cell_type": "code",
   "execution_count": 26,
   "metadata": {},
   "outputs": [],
   "source": [
    "marker = stats.agg({'justice_vote' :'first', 'pred':'mean'})['justice_vote'].values == 'PETITIONER'\n",
    "ynew = marker.astype('int')"
   ]
  },
  {
   "cell_type": "code",
   "execution_count": 27,
   "metadata": {},
   "outputs": [],
   "source": [
    "yhat_new = stats.agg({'justice_vote' :'first', 'pred':'mean'})['pred'].values"
   ]
  },
  {
   "cell_type": "code",
   "execution_count": 31,
   "metadata": {},
   "outputs": [
    {
     "data": {
      "text/plain": [
       "array([0.72466666, 0.77021384, 0.72099406, ..., 0.76463354, 0.75415355,\n",
       "       0.7503021 ], dtype=float32)"
      ]
     },
     "execution_count": 31,
     "metadata": {},
     "output_type": "execute_result"
    }
   ],
   "source": [
    "stats.mean()['pred'].values"
   ]
  },
  {
   "cell_type": "code",
   "execution_count": 32,
   "metadata": {},
   "outputs": [
    {
     "data": {
      "text/plain": [
       "<matplotlib.legend.Legend at 0x1a3b780b90>"
      ]
     },
     "execution_count": 32,
     "metadata": {},
     "output_type": "execute_result"
    },
    {
     "data": {
      "image/png": "[encoded data removed]",
      "text/plain": [
       "<matplotlib.figure.Figure at 0x1a3b797dd0>"
      ]
     },
     "metadata": {},
     "output_type": "display_data"
    }
   ],
   "source": [
    "fpr3,tpr3, _ = roc_curve(ynew,yhat_new)\n",
    "#plt.plot(fpr,tpr,label='LSTM Train')\n",
    "#plt.plot(fpr1,tpr1,label='Always say petitioner')\n",
    "#plt.plot(fpr2,tpr2,label='LSTM Test')\n",
    "plt.plot(fpr3,tpr3,label='Justice level')\n",
    "plt.xlabel('FPR')\n",
    "plt.ylabel('TPR')\n",
    "plt.title('ROC Curve')\n",
    "plt.legend()"
   ]
  },
  {
   "cell_type": "code",
   "execution_count": 33,
   "metadata": {},
   "outputs": [
    {
     "name": "stderr",
     "output_type": "stream",
     "text": [
      "/Users/mbaumer/anaconda2/lib/python2.7/site-packages/ipykernel_launcher.py:2: SettingWithCopyWarning: \n",
      "A value is trying to be set on a copy of a slice from a DataFrame.\n",
      "Try using .loc[row_indexer,col_indexer] = value instead\n",
      "\n",
      "See the caveats in the documentation: http://pandas.pydata.org/pandas-docs/stable/indexing.html#indexing-view-versus-copy\n",
      "  \n"
     ]
    }
   ],
   "source": [
    "out = justice_lines.iloc[test_inds]\n",
    "out['pred'] = pd.Series(y_pred_test.flatten(),index=out.index)\n",
    "stats = out[['case_id','speaker','justice_vote','pred']].groupby(['case_id','speaker'])\n",
    "marker = stats.agg({'justice_vote' :'first', 'pred':'mean'})['justice_vote'].values == 'PETITIONER'\n",
    "ynew_test = marker.astype('int')\n",
    "yhat_new_test = stats.agg({'justice_vote' :'first', 'pred':'mean'})['pred'].values"
   ]
  },
  {
   "cell_type": "code",
   "execution_count": 35,
   "metadata": {},
   "outputs": [
    {
     "data": {
      "text/plain": [
       "<matplotlib.legend.Legend at 0x1a3b9ea7d0>"
      ]
     },
     "execution_count": 35,
     "metadata": {},
     "output_type": "execute_result"
    },
    {
     "data": {
      "image/png": "[encoded data removed]",
      "text/plain": [
       "<matplotlib.figure.Figure at 0x1a3b8be210>"
      ]
     },
     "metadata": {},
     "output_type": "display_data"
    }
   ],
   "source": [
    "fpr3,tpr3, _ = roc_curve(ynew,yhat_new)\n",
    "fpr4,tpr4, thresholds = roc_curve(ynew_test,yhat_new_test)\n",
    "fpr5,tpr5, _ = roc_curve(ynew_test,np.ones_like(ynew_test))\n",
    "plt.plot(fpr3,tpr3,label='Justice level train')\n",
    "plt.plot(fpr4,tpr4,label='Justice level test')\n",
    "plt.plot(fpr5,tpr5,label='Justice level -- say petitioner')\n",
    "plt.xlabel('FPR')\n",
    "plt.ylabel('TPR')\n",
    "plt.title('ROC Curve')\n",
    "plt.legend()"
   ]
  },
  {
   "cell_type": "code",
   "execution_count": 44,
   "metadata": {},
   "outputs": [
    {
     "data": {
      "text/plain": [
       "0.31301565920188584"
      ]
     },
     "execution_count": 44,
     "metadata": {},
     "output_type": "execute_result"
    }
   ],
   "source": [
    "fpr[2500]"
   ]
  },
  {
   "cell_type": "code",
   "execution_count": 45,
   "metadata": {},
   "outputs": [
    {
     "data": {
      "text/plain": [
       "array([0.9077762 , 0.8530423 , 0.83008057, 0.8297581 , 0.82536507,\n",
       "       0.8101057 , 0.8084018 , 0.80711263, 0.8057738 , 0.80323905,\n",
       "       0.80251354, 0.79390234, 0.7924292 , 0.79123235, 0.78913784,\n",
       "       0.78661287, 0.78516424, 0.78079295, 0.780208  , 0.7729609 ,\n",
       "       0.77290946, 0.7605444 , 0.7593608 , 0.75647634, 0.75642705,\n",
       "       0.75611484, 0.75495166, 0.7544774 , 0.7539599 , 0.75230294,\n",
       "       0.75219905, 0.7502364 , 0.7501852 , 0.750181  , 0.75009537,\n",
       "       0.7486415 , 0.74782646, 0.7451143 , 0.7451056 , 0.7434633 ,\n",
       "       0.7429913 , 0.7422848 , 0.7420994 , 0.74087965, 0.74086726,\n",
       "       0.74009234, 0.7397572 , 0.73972243, 0.7390935 , 0.7382694 ,\n",
       "       0.73771775, 0.7364746 , 0.73638153, 0.7361053 , 0.7358934 ,\n",
       "       0.73552525, 0.73530656, 0.73470104, 0.7343978 , 0.73387873,\n",
       "       0.73369783, 0.73208827, 0.732033  , 0.73178756, 0.73146   ,\n",
       "       0.73104894, 0.7303052 , 0.72973627, 0.72946787, 0.7290106 ,\n",
       "       0.72900236, 0.72898513, 0.7285149 , 0.72776246, 0.7276423 ,\n",
       "       0.72710574, 0.7266098 , 0.72632504, 0.72577834, 0.724947  ,\n",
       "       0.7243807 , 0.72394574, 0.72364014, 0.7224501 , 0.7223733 ,\n",
       "       0.72157884, 0.7215623 , 0.7215277 , 0.7209367 , 0.72068644,\n",
       "       0.7206757 , 0.7202841 , 0.720119  , 0.718736  , 0.7186075 ,\n",
       "       0.71835226, 0.71796894, 0.71634734, 0.71624124, 0.7159792 ,\n",
       "       0.7154139 , 0.7152108 , 0.71509093, 0.71370417, 0.7137013 ,\n",
       "       0.71362245, 0.7136128 , 0.7131765 , 0.7126794 , 0.7115403 ,\n",
       "       0.7114833 , 0.7113554 , 0.7109826 , 0.71057624, 0.7105017 ,\n",
       "       0.70941734, 0.7094071 , 0.7086768 , 0.70851034, 0.7082774 ,\n",
       "       0.7082298 , 0.7078794 , 0.70753866, 0.707216  , 0.7067491 ,\n",
       "       0.70593566, 0.7053146 , 0.70509225, 0.7049569 , 0.7046271 ,\n",
       "       0.7045243 , 0.70445085, 0.70426965, 0.70402014, 0.704002  ,\n",
       "       0.7037522 , 0.7036755 , 0.70361775, 0.7035967 , 0.702959  ,\n",
       "       0.70290637, 0.70259184, 0.70237464, 0.70220864, 0.7021798 ,\n",
       "       0.70188636, 0.7017354 , 0.70071703, 0.70068985, 0.69883454,\n",
       "       0.69876504, 0.6980512 , 0.6978804 , 0.6975363 , 0.69753104,\n",
       "       0.69751906, 0.69745255, 0.69695544, 0.6967699 , 0.69561315,\n",
       "       0.69560117, 0.6950078 , 0.6949402 , 0.69483197, 0.69466794,\n",
       "       0.6943315 , 0.69427526, 0.69347215, 0.6933807 , 0.69330096,\n",
       "       0.6932411 , 0.69238776, 0.6922773 , 0.6914905 , 0.69146603,\n",
       "       0.6913973 , 0.6909659 , 0.69062346, 0.6905259 , 0.68978053,\n",
       "       0.68970525, 0.6894735 , 0.68946284, 0.6888001 , 0.6887611 ,\n",
       "       0.6886448 , 0.68861806, 0.68817633, 0.688117  , 0.6877988 ,\n",
       "       0.68771976, 0.6876857 , 0.68764544, 0.6873159 , 0.68729144,\n",
       "       0.6872893 , 0.6872408 , 0.6867013 , 0.68659884, 0.68578875,\n",
       "       0.6857346 , 0.68524534, 0.68517774, 0.6848835 , 0.6847359 ,\n",
       "       0.68472534, 0.6846624 , 0.68443537, 0.6844057 , 0.6838158 ,\n",
       "       0.68377227, 0.6837653 , 0.6834837 , 0.68308765, 0.68307936,\n",
       "       0.68286496, 0.6826608 , 0.6823028 , 0.6822339 , 0.6821374 ,\n",
       "       0.6821087 , 0.68198735, 0.6818551 , 0.6817571 , 0.6816585 ,\n",
       "       0.68048704, 0.6802691 , 0.68005496, 0.6800096 , 0.67969894,\n",
       "       0.67962074, 0.6794058 , 0.6793583 , 0.67889684, 0.67886114,\n",
       "       0.6786877 , 0.6786798 , 0.67854977, 0.67843246, 0.6781904 ,\n",
       "       0.6781795 , 0.67800367, 0.67789173, 0.67784667, 0.67780966,\n",
       "       0.67708373, 0.6769663 , 0.676901  , 0.6768966 , 0.6767933 ,\n",
       "       0.6767382 , 0.67663014, 0.67654693, 0.6760828 , 0.6757475 ,\n",
       "       0.6756774 , 0.67547274, 0.67538273, 0.67531854, 0.6751726 ,\n",
       "       0.6750988 , 0.6750921 , 0.6750007 , 0.67445683, 0.67435324,\n",
       "       0.6736706 , 0.6735769 , 0.67327255, 0.6732341 , 0.6731236 ,\n",
       "       0.6730056 , 0.67281646, 0.67268205, 0.67266154, 0.6725911 ,\n",
       "       0.6724669 , 0.6724537 , 0.67241853, 0.6723713 , 0.6717698 ,\n",
       "       0.67174375, 0.6716994 , 0.67160267, 0.6715004 , 0.6714335 ,\n",
       "       0.67119855, 0.6711594 , 0.6709687 , 0.67095375, 0.6709121 ,\n",
       "       0.67083013, 0.6708001 , 0.67070425, 0.67068774, 0.67062664,\n",
       "       0.66957283, 0.66932565, 0.6691944 , 0.66905785, 0.6687839 ,\n",
       "       0.66855854, 0.6684118 , 0.6682948 , 0.6682484 , 0.66803646,\n",
       "       0.6678513 , 0.6678002 , 0.66763455, 0.6675536 , 0.66710955,\n",
       "       0.66705227, 0.6669863 , 0.6669688 , 0.66679114, 0.6666457 ,\n",
       "       0.666     , 0.6657593 , 0.6656935 , 0.6654892 , 0.665405  ,\n",
       "       0.6652181 , 0.66505814, 0.66479003, 0.66474116, 0.6647386 ,\n",
       "       0.66437227, 0.66432244, 0.6643163 , 0.66430026, 0.66401446,\n",
       "       0.6637656 , 0.6632646 , 0.6632486 , 0.6632101 , 0.6632081 ,\n",
       "       0.6628125 , 0.662793  , 0.6627731 , 0.6625948 , 0.6622633 ,\n",
       "       0.6622039 , 0.66172504, 0.66144884, 0.6613762 , 0.6611018 ,\n",
       "       0.6607727 , 0.6606424 , 0.660263  , 0.6601821 , 0.6601043 ,\n",
       "       0.66007334, 0.66001594, 0.6598276 , 0.6597961 , 0.65971625,\n",
       "       0.6594276 , 0.6594218 , 0.65941405, 0.65937763, 0.6590492 ,\n",
       "       0.6587447 , 0.65872675, 0.6586312 , 0.65822625, 0.65821576,\n",
       "       0.6576078 , 0.65750927, 0.65747666, 0.65695333, 0.6567791 ,\n",
       "       0.6567337 , 0.65661573, 0.6566143 , 0.65658486, 0.656415  ,\n",
       "       0.65630513, 0.6562449 , 0.65607035, 0.65595067, 0.65591484,\n",
       "       0.65587795, 0.655755  , 0.6555052 , 0.65550345, 0.65548474,\n",
       "       0.65528214, 0.6552136 , 0.6551902 , 0.655074  , 0.6549775 ,\n",
       "       0.654851  , 0.6548495 , 0.6548104 , 0.6548086 , 0.6546938 ,\n",
       "       0.6542808 , 0.65410334, 0.6538842 , 0.65369123, 0.6532017 ,\n",
       "       0.6528228 , 0.6528144 , 0.65268826, 0.65217507, 0.6521708 ,\n",
       "       0.6519258 , 0.65192014, 0.6519034 , 0.6519015 , 0.6515035 ,\n",
       "       0.6510289 , 0.6506436 , 0.6503845 , 0.6500992 , 0.6495224 ,\n",
       "       0.6494689 , 0.6491525 , 0.6489366 , 0.64856017, 0.6484061 ,\n",
       "       0.6482813 , 0.6481905 , 0.6481544 , 0.6480067 , 0.6479052 ,\n",
       "       0.64780563, 0.64777094, 0.64776176, 0.64753807, 0.6471523 ,\n",
       "       0.6467515 , 0.6464811 , 0.646128  , 0.64603555, 0.64594364,\n",
       "       0.64576775, 0.6457337 , 0.645557  , 0.644898  , 0.6446918 ,\n",
       "       0.64441484, 0.6438132 , 0.64381254, 0.6435275 , 0.6434804 ,\n",
       "       0.6432316 , 0.6431041 , 0.6430987 , 0.6429868 , 0.6424273 ,\n",
       "       0.6421039 , 0.64171207, 0.64153284, 0.6415162 , 0.6412092 ,\n",
       "       0.6408357 , 0.64044535, 0.6402519 , 0.6400299 , 0.639832  ,\n",
       "       0.6397762 , 0.6396529 , 0.6394803 , 0.63945603, 0.6392323 ,\n",
       "       0.6391671 , 0.6387144 , 0.6386666 , 0.63856786, 0.6380246 ,\n",
       "       0.63751286, 0.6371158 , 0.6366122 , 0.63648355, 0.63636565,\n",
       "       0.63587356, 0.63562393, 0.63553226, 0.6354366 , 0.6353659 ,\n",
       "       0.6352196 , 0.63511366, 0.63506985, 0.6350204 , 0.63475513,\n",
       "       0.6346467 , 0.63459253, 0.63424945, 0.63395387, 0.6337786 ,\n",
       "       0.63317263, 0.6331238 , 0.6328421 , 0.63251704, 0.63214576,\n",
       "       0.6321031 , 0.6318852 , 0.63124424, 0.6311534 , 0.6309498 ,\n",
       "       0.63089526, 0.63083637, 0.6308269 , 0.6304621 , 0.6302458 ,\n",
       "       0.62950855, 0.6288876 , 0.62885433, 0.62852454, 0.6283038 ,\n",
       "       0.62801194, 0.62797284, 0.627922  , 0.62790394, 0.6277605 ,\n",
       "       0.6272256 , 0.62705064, 0.62701595, 0.6268055 , 0.6261795 ,\n",
       "       0.6256602 , 0.6253778 , 0.62466943, 0.6234179 , 0.6231469 ,\n",
       "       0.6228497 , 0.62246215, 0.6223186 , 0.62175155, 0.6208177 ,\n",
       "       0.62064046, 0.61970025, 0.6191709 , 0.61886424, 0.61870265,\n",
       "       0.61665696, 0.61617744, 0.6155381 , 0.6154828 , 0.61452746,\n",
       "       0.61413985, 0.6128138 , 0.6120256 , 0.61159563, 0.610955  ,\n",
       "       0.61083543, 0.6100295 , 0.6086445 , 0.60828984, 0.60802215,\n",
       "       0.6076088 , 0.6072427 , 0.6070143 , 0.60646796, 0.60640717,\n",
       "       0.6047522 , 0.6042442 , 0.60339755, 0.6031845 , 0.6027632 ,\n",
       "       0.60171735, 0.6003833 , 0.5999361 , 0.5993276 , 0.5970052 ,\n",
       "       0.59646386, 0.59641355, 0.59544647, 0.59434897, 0.5928494 ,\n",
       "       0.59192586, 0.5918807 , 0.5915147 , 0.58861685, 0.5877337 ,\n",
       "       0.58752567, 0.58688533, 0.58517474, 0.5838561 , 0.58325535,\n",
       "       0.58310574, 0.5761039 , 0.5756565 , 0.57324725, 0.5730645 ,\n",
       "       0.57228   , 0.571208  , 0.57112336, 0.57053316, 0.568675  ,\n",
       "       0.56781983, 0.5525989 , 0.54860127, 0.5485426 , 0.54376704,\n",
       "       0.5428268 , 0.54159266, 0.5405711 , 0.5246227 , 0.521137  ,\n",
       "       0.5164956 , 0.49006447, 0.47482523, 0.35479814], dtype=float32)"
      ]
     },
     "execution_count": 45,
     "metadata": {},
     "output_type": "execute_result"
    }
   ],
   "source": [
    "thresholds"
   ]
  },
  {
   "cell_type": "code",
   "execution_count": 57,
   "metadata": {},
   "outputs": [],
   "source": [
    "from sklearn.metrics import confusion_matrix,accuracy_score"
   ]
  },
  {
   "cell_type": "code",
   "execution_count": 72,
   "metadata": {},
   "outputs": [
    {
     "data": {
      "text/plain": [
       "array([[128, 348],\n",
       "       [ 82, 840]])"
      ]
     },
     "execution_count": 72,
     "metadata": {},
     "output_type": "execute_result"
    }
   ],
   "source": [
    "post_threshold = np.zeros_like(yhat_new_test)\n",
    "post_threshold[np.where(yhat_new_test > .63)] = 1\n",
    "confusion_matrix(ynew_test,post_threshold,)"
   ]
  },
  {
   "cell_type": "code",
   "execution_count": 73,
   "metadata": {},
   "outputs": [
    {
     "data": {
      "text/plain": [
       "0.6924177396280401"
      ]
     },
     "execution_count": 73,
     "metadata": {},
     "output_type": "execute_result"
    }
   ],
   "source": [
    "accuracy_score(ynew_test,post_threshold)"
   ]
  },
  {
   "cell_type": "code",
   "execution_count": null,
   "metadata": {},
   "outputs": [],
   "source": []
  }
 ],
 "metadata": {
  "kernelspec": {
   "display_name": "Python 2",
   "language": "python",
   "name": "python2"
  },
  "language_info": {
   "codemirror_mode": {
    "name": "ipython",
    "version": 2
   },
   "file_extension": ".py",
   "mimetype": "text/x-python",
   "name": "python",
   "nbconvert_exporter": "python",
   "pygments_lexer": "ipython2",
   "version": "2.7.14"
  }
 },
 "nbformat": 4,
 "nbformat_minor": 2
}
